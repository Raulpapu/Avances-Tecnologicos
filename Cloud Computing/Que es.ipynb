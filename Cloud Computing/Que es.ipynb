{
 "cells": [
  {
   "cell_type": "markdown",
   "id": "ee036f1d",
   "metadata": {},
   "source": [
    "¿Qué es Cloud Computing?\n",
    "\n",
    "Cloud Computing es la entrega de servicios de computación (servidores, almacenamiento, bases de datos, redes, software, análisis, inteligencia artificial) a través de Internet (\"la nube\") con un modelo de pago por uso.![Descripción](ejemplo.png)\n"
   ]
  }
 ],
 "metadata": {
  "language_info": {
   "name": "python"
  }
 },
 "nbformat": 4,
 "nbformat_minor": 5
}
