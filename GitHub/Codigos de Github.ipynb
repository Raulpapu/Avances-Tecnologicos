{
 "cells": [
  {
   "cell_type": "markdown",
   "id": "27867bbc",
   "metadata": {},
   "source": [
    "Comandos básicos de Git (que se usan con GitHub)\n",
    "\n",
    "Configuración inicial"
   ]
  },
  {
   "cell_type": "code",
   "execution_count": null,
   "id": "b59b89b3",
   "metadata": {},
   "outputs": [],
   "source": [
    "git config --global user.name \"Tu Nombre\"\n",
    "git config --global user.email \"tu@email.com\""
   ]
  },
  {
   "cell_type": "markdown",
   "id": "161978b2",
   "metadata": {},
   "source": [
    "Comandos esenciales\n",
    "\n",
    "Comando\tDescripción\n",
    "git init\tInicializa un repositorio local\n",
    "git clone [url]\tClona un repositorio remoto\n",
    "git status\tMuestra el estado de los archivos\n",
    "git add [archivo]\tAñade archivos al área de staging\n",
    "git commit -m \"mensaje\"\tGuarda los cambios con un mensaje\n",
    "git push\tSube cambios al repositorio remoto\n",
    "git pull\tDescarga cambios del repositorio remoto\n"
   ]
  },
  {
   "cell_type": "markdown",
   "id": "182208d9",
   "metadata": {},
   "source": [
    "Ramas (Branches)"
   ]
  },
  {
   "cell_type": "code",
   "execution_count": null,
   "id": "7426b927",
   "metadata": {},
   "outputs": [],
   "source": [
    "git branch                    # Lista las ramas\n",
    "git branch [nombre-rama]      # Crea una nueva rama\n",
    "git checkout [nombre-rama]    # Cambia a otra rama\n",
    "git merge [nombre-rama]       # Fusiona ramas"
   ]
  },
  {
   "cell_type": "markdown",
   "id": "0d457183",
   "metadata": {},
   "source": [
    "Trabajo con repositorios remotos"
   ]
  },
  {
   "cell_type": "code",
   "execution_count": null,
   "id": "7ea56b7e",
   "metadata": {},
   "outputs": [],
   "source": [
    "git remote add origin [url]   # Conecta con repositorio remoto\n",
    "git push -u origin main       # Primera subida a la rama principal\n",
    "git fetch                     # Descarga información remota"
   ]
  },
  {
   "cell_type": "markdown",
   "id": "bfacb3ab",
   "metadata": {},
   "source": [
    "Flujo de trabajo típico.\n",
    "\n",
    "Clonar repositorio: git clone https://github.com/usuario/repositorio.git\n",
    "\n",
    "Crear rama: git checkout -b nueva-funcionalidad\n",
    "\n",
    "Hacer cambios en los archivos\n",
    "\n",
    "Añadir cambios: git add .\n",
    "\n",
    "Hacer commit: git commit -m \"Descripción de los cambios\"\n",
    "\n",
    "Subir cambios: git push origin nueva-funcionalidad\n",
    "\n",
    "Crear Pull Request en GitHub para revisión"
   ]
  },
  {
   "cell_type": "markdown",
   "id": "a1ee9a08",
   "metadata": {},
   "source": [
    "Comandos útiles para información"
   ]
  },
  {
   "cell_type": "code",
   "execution_count": null,
   "id": "b0ab32df",
   "metadata": {},
   "outputs": [],
   "source": [
    "git log                      # Historial de commits\n",
    "git diff                     # Muestra diferencias entre archivos\n",
    "git show [commit-hash]       # Muestra un commit específico\n",
    "git remote -v                # Muestra repositorios remotos"
   ]
  }
 ],
 "metadata": {
  "language_info": {
   "name": "python"
  }
 },
 "nbformat": 4,
 "nbformat_minor": 5
}
