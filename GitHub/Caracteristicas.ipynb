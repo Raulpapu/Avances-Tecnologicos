{
 "cells": [
  {
   "cell_type": "markdown",
   "id": "cc2ea535",
   "metadata": {},
   "source": [
    "Características Principales de GitHub\n",
    "GitHub combina la funcionalidad del control de versiones de Git con una serie de herramientas colaborativas y de gestión de proyectos. Sus características más destacadas incluyen:\n",
    "\n",
    "1. Control de Versiones (Repositorios y Git)\n",
    "Repositorios: Es el espacio virtual donde se almacena todo el código, archivos y el historial del proyecto. Puedes tener repositorios públicos o privados.\n",
    "\n",
    "Git Integration: Al estar basado en Git, permite el seguimiento de cambios (commits), la creación de ramas (branches) para trabajar en paralelo sin afectar el código principal, y la fusión (merge) de cambios.\n",
    "\n",
    "Fork (Bifurcación): Permite a un desarrollador crear una copia de un repositorio en su propia cuenta, para experimentar o hacer modificaciones de forma independiente, preservando el proyecto original.\n",
    "\n",
    "2. Colaboración y Revisión de Código\n",
    "Pull Requests (Solicitudes de Extracción): Es el mecanismo central para proponer cambios a un repositorio. Permite que otros colaboradores o el dueño del proyecto revisen el código, hagan comentarios, sugieran ediciones y finalmente decidan si aceptan (fusionan) los cambios a la rama principal.\n",
    "\n",
    "Code Review (Revisión de Código): Permite a los colaboradores revisar el código propuesto en un pull request línea por línea, dejando comentarios y feedback antes de que se fusione.\n",
    "\n",
    "Discussions (Debates): Espacios tipo foro para mantener conversaciones sobre el proyecto, hacer preguntas o proponer ideas a largo plazo, separadas del seguimiento de errores.\n",
    "\n",
    "3. Gestión de Proyectos\n",
    "Issues (Propuestas/Incidencias): Se utilizan para hacer seguimiento de errores (bugs), solicitar nuevas funcionalidades o mejoras, y discutir tareas específicas del proyecto. Se pueden asignar a usuarios y etiquetar.\n",
    "\n",
    "Projects (Proyectos): Tableros Kanban o tablas para organizar y priorizar las tareas, issues y pull requests de un proyecto de forma visual, facilitando la planificación y el seguimiento del trabajo.\n",
    "\n",
    "4. Automatización y Ecosistema\n",
    "GitHub Actions: Permite automatizar flujos de trabajo (workflows) de software, como la integración continua (CI) y la entrega continua (CD), para construir, probar y desplegar código directamente desde GitHub.\n",
    "\n",
    "GitHub Packages: Servicio de alojamiento de paquetes de software, permitiendo utilizarlos como dependencias en otros proyectos.\n",
    "\n",
    "GitHub Codespaces: Entornos de desarrollo completos y configurados que se ejecutan en la nube, permitiendo empezar a codificar al instante desde el navegador o una aplicación de escritorio, sin necesidad de configuración local.\n",
    "\n",
    "GitHub Copilot: Una herramienta de asistencia de codificación impulsada por Inteligencia Artificial que ofrece sugerencias de código, autocompletado y ayuda para la refactorización.\n",
    "\n",
    "5. Seguridad\n",
    "Code Scanning: Analiza el código para encontrar vulnerabilidades de seguridad.\n",
    "\n",
    "Dependabot: Envía alertas y abre automáticamente pull requests para actualizar dependencias vulnerables o desactualizadas, manteniendo el código seguro.\n",
    "\n",
    "Secret Scanning: Detecta secretos expuestos (como contraseñas o claves API) en repositorios públicos y privados."
   ]
  }
 ],
 "metadata": {
  "language_info": {
   "name": "python"
  }
 },
 "nbformat": 4,
 "nbformat_minor": 5
}
