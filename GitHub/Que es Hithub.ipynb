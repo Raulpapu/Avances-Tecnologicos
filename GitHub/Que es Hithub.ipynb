{
 "cells": [
  {
   "cell_type": "markdown",
   "id": "be9b3faa",
   "metadata": {},
   "source": [
    "¿Qué es GitHub?\n",
    "\n",
    "GitHub es una plataforma de desarrollo colaborativo basada en la web que utiliza el sistema de control de versiones Git. Básicamente es como una \"red social para desarrolladores\" donde pueden almacenar, gestionar y colaborar en proyectos de código."
   ]
  }
 ],
 "metadata": {
  "language_info": {
   "name": "python"
  }
 },
 "nbformat": 4,
 "nbformat_minor": 5
}
